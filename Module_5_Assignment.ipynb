{
 "cells": [
  {
   "cell_type": "markdown",
   "metadata": {},
   "source": [
    "## Muthu Priya Shanmugakani Velsamy\n",
    "### 801147635\n",
    "### Module_5_Assignment\n",
    "### ITCS-5111 Intro to Natural Language Processing"
   ]
  },
  {
   "cell_type": "markdown",
   "metadata": {},
   "source": [
    "<a href=\"#Question 1 Answer\" style=\"color:blue;\">Click here to have a look at Answer to Question-1 Combined dataframe</a>"
   ]
  },
  {
   "cell_type": "markdown",
   "metadata": {},
   "source": [
    "<a href=\"#Question 2 Answer_CV\" style=\"color:blue;\">Click here to have a look at Answer to Question-2 Count Vectorizer</a>"
   ]
  },
  {
   "cell_type": "markdown",
   "metadata": {},
   "source": [
    "<a href=\"#Question 2 Answer_TFIDF\" style=\"color:blue;\">Click here to have a look at Answer to Question-2 TFIDF</a>"
   ]
  },
  {
   "cell_type": "markdown",
   "metadata": {},
   "source": [
    "<a href=\"#Question 3 Answer_Naive_Bayes\" style=\"color:blue;\">Click here to have a look at Answer to Question-3 Multinomial Naive Bayes</a>"
   ]
  },
  {
   "cell_type": "markdown",
   "metadata": {},
   "source": [
    "<a href=\"#Question 4 Answer_predict_the_language\" style=\"color:blue;\">Click here to have a look at Answer to Question-4 -Predict the language TFIDF</a>"
   ]
  },
  {
   "cell_type": "markdown",
   "metadata": {},
   "source": [
    "<a href=\"#Question 5 Answer_predict_the_language_5_sentences\" style=\"color:blue;\">Click here to have a look at Answer to Predict the language for 5 other sentences</a>"
   ]
  },
  {
   "cell_type": "markdown",
   "metadata": {},
   "source": [
    "<a href=\"#Extra_credit\" style=\"color:blue;\">Click here to have a look at the Extra Credit - Testing the model on a sentence of your own that the model predicts incorrectly</a>"
   ]
  },
  {
   "cell_type": "code",
   "execution_count": 1,
   "metadata": {},
   "outputs": [],
   "source": [
    "# Import Libraries\n",
    "import pandas as pd\n",
    "import numpy as np\n",
    "import nltk\n",
    "from sklearn.feature_extraction.text import CountVectorizer\n",
    "from sklearn.feature_extraction.text import TfidfTransformer\n",
    "from sklearn.naive_bayes import MultinomialNB"
   ]
  },
  {
   "cell_type": "code",
   "execution_count": 2,
   "metadata": {},
   "outputs": [
    {
     "data": {
      "text/html": [
       "<div>\n",
       "<style scoped>\n",
       "    .dataframe tbody tr th:only-of-type {\n",
       "        vertical-align: middle;\n",
       "    }\n",
       "\n",
       "    .dataframe tbody tr th {\n",
       "        vertical-align: top;\n",
       "    }\n",
       "\n",
       "    .dataframe thead th {\n",
       "        text-align: right;\n",
       "    }\n",
       "</style>\n",
       "<table border=\"1\" class=\"dataframe\">\n",
       "  <thead>\n",
       "    <tr style=\"text-align: right;\">\n",
       "      <th></th>\n",
       "      <th>TARGET</th>\n",
       "      <th>POS</th>\n",
       "      <th>INDEX</th>\n",
       "      <th>TEXT</th>\n",
       "      <th>MEAN</th>\n",
       "    </tr>\n",
       "  </thead>\n",
       "  <tbody>\n",
       "    <tr>\n",
       "      <th>0</th>\n",
       "      <td>achievement</td>\n",
       "      <td>N</td>\n",
       "      <td>3</td>\n",
       "      <td>Bring up academic achievements , awards , and ...</td>\n",
       "      <td>3.06</td>\n",
       "    </tr>\n",
       "    <tr>\n",
       "      <th>1</th>\n",
       "      <td>achievement</td>\n",
       "      <td>N</td>\n",
       "      <td>9</td>\n",
       "      <td>Please list people you have helped , your pers...</td>\n",
       "      <td>3.03</td>\n",
       "    </tr>\n",
       "    <tr>\n",
       "      <th>2</th>\n",
       "      <td>activate</td>\n",
       "      <td>V</td>\n",
       "      <td>1</td>\n",
       "      <td>Add activated carbon straight to your vodka .</td>\n",
       "      <td>3.83</td>\n",
       "    </tr>\n",
       "    <tr>\n",
       "      <th>3</th>\n",
       "      <td>activate</td>\n",
       "      <td>V</td>\n",
       "      <td>15</td>\n",
       "      <td>Place sensors around your garden , and when a ...</td>\n",
       "      <td>5.51</td>\n",
       "    </tr>\n",
       "    <tr>\n",
       "      <th>4</th>\n",
       "      <td>adventure</td>\n",
       "      <td>N</td>\n",
       "      <td>9</td>\n",
       "      <td>Look for a partner that shares your level of a...</td>\n",
       "      <td>2.03</td>\n",
       "    </tr>\n",
       "    <tr>\n",
       "      <th>...</th>\n",
       "      <td>...</td>\n",
       "      <td>...</td>\n",
       "      <td>...</td>\n",
       "      <td>...</td>\n",
       "      <td>...</td>\n",
       "    </tr>\n",
       "    <tr>\n",
       "      <th>95</th>\n",
       "      <td>water</td>\n",
       "      <td>N</td>\n",
       "      <td>5</td>\n",
       "      <td>Rinse your face with warm water and pat it dry .</td>\n",
       "      <td>6.91</td>\n",
       "    </tr>\n",
       "    <tr>\n",
       "      <th>96</th>\n",
       "      <td>win</td>\n",
       "      <td>V</td>\n",
       "      <td>4</td>\n",
       "      <td>Staying mentally strong means winning half the...</td>\n",
       "      <td>2.34</td>\n",
       "    </tr>\n",
       "    <tr>\n",
       "      <th>97</th>\n",
       "      <td>win</td>\n",
       "      <td>V</td>\n",
       "      <td>7</td>\n",
       "      <td>The person who has the highest score wins the ...</td>\n",
       "      <td>4.60</td>\n",
       "    </tr>\n",
       "    <tr>\n",
       "      <th>98</th>\n",
       "      <td>woman</td>\n",
       "      <td>N</td>\n",
       "      <td>7</td>\n",
       "      <td>For the most part , men and women wear the sam...</td>\n",
       "      <td>6.29</td>\n",
       "    </tr>\n",
       "    <tr>\n",
       "      <th>99</th>\n",
       "      <td>woman</td>\n",
       "      <td>N</td>\n",
       "      <td>3</td>\n",
       "      <td>Look at the woman whom you are listening to fo...</td>\n",
       "      <td>6.57</td>\n",
       "    </tr>\n",
       "  </tbody>\n",
       "</table>\n",
       "<p>100 rows × 5 columns</p>\n",
       "</div>"
      ],
      "text/plain": [
       "         TARGET POS  INDEX                                               TEXT  \\\n",
       "0   achievement   N      3  Bring up academic achievements , awards , and ...   \n",
       "1   achievement   N      9  Please list people you have helped , your pers...   \n",
       "2      activate   V      1     Add activated carbon straight to your vodka .    \n",
       "3      activate   V     15  Place sensors around your garden , and when a ...   \n",
       "4     adventure   N      9  Look for a partner that shares your level of a...   \n",
       "..          ...  ..    ...                                                ...   \n",
       "95        water   N      5  Rinse your face with warm water and pat it dry .    \n",
       "96          win   V      4  Staying mentally strong means winning half the...   \n",
       "97          win   V      7  The person who has the highest score wins the ...   \n",
       "98        woman   N      7  For the most part , men and women wear the sam...   \n",
       "99        woman   N      3  Look at the woman whom you are listening to fo...   \n",
       "\n",
       "    MEAN  \n",
       "0   3.06  \n",
       "1   3.03  \n",
       "2   3.83  \n",
       "3   5.51  \n",
       "4   2.03  \n",
       "..   ...  \n",
       "95  6.91  \n",
       "96  2.34  \n",
       "97  4.60  \n",
       "98  6.29  \n",
       "99  6.57  \n",
       "\n",
       "[100 rows x 5 columns]"
      ]
     },
     "execution_count": 2,
     "metadata": {},
     "output_type": "execute_result"
    }
   ],
   "source": [
    "# Load the course data files for English into a dataframe using Pandas\n",
    "dataframe_english = pd.read_csv(r\"C:\\Users\\muthu\\Desktop\\UNCC\\Semester-3\\NLP\\Assignments\\Data_Input\\CONcreTEXT_trial_EN.tsv\", sep = \"\\t\")\n",
    "dataframe_english"
   ]
  },
  {
   "cell_type": "code",
   "execution_count": 3,
   "metadata": {},
   "outputs": [
    {
     "data": {
      "text/html": [
       "<div>\n",
       "<style scoped>\n",
       "    .dataframe tbody tr th:only-of-type {\n",
       "        vertical-align: middle;\n",
       "    }\n",
       "\n",
       "    .dataframe tbody tr th {\n",
       "        vertical-align: top;\n",
       "    }\n",
       "\n",
       "    .dataframe thead th {\n",
       "        text-align: right;\n",
       "    }\n",
       "</style>\n",
       "<table border=\"1\" class=\"dataframe\">\n",
       "  <thead>\n",
       "    <tr style=\"text-align: right;\">\n",
       "      <th></th>\n",
       "      <th>TARGET</th>\n",
       "      <th>POS</th>\n",
       "      <th>INDEX</th>\n",
       "      <th>TEXT</th>\n",
       "      <th>MEAN</th>\n",
       "      <th>LANGUAGE</th>\n",
       "    </tr>\n",
       "  </thead>\n",
       "  <tbody>\n",
       "    <tr>\n",
       "      <th>0</th>\n",
       "      <td>achievement</td>\n",
       "      <td>N</td>\n",
       "      <td>3</td>\n",
       "      <td>Bring up academic achievements , awards , and ...</td>\n",
       "      <td>3.06</td>\n",
       "      <td>ENGLISH</td>\n",
       "    </tr>\n",
       "    <tr>\n",
       "      <th>1</th>\n",
       "      <td>achievement</td>\n",
       "      <td>N</td>\n",
       "      <td>9</td>\n",
       "      <td>Please list people you have helped , your pers...</td>\n",
       "      <td>3.03</td>\n",
       "      <td>ENGLISH</td>\n",
       "    </tr>\n",
       "    <tr>\n",
       "      <th>2</th>\n",
       "      <td>activate</td>\n",
       "      <td>V</td>\n",
       "      <td>1</td>\n",
       "      <td>Add activated carbon straight to your vodka .</td>\n",
       "      <td>3.83</td>\n",
       "      <td>ENGLISH</td>\n",
       "    </tr>\n",
       "    <tr>\n",
       "      <th>3</th>\n",
       "      <td>activate</td>\n",
       "      <td>V</td>\n",
       "      <td>15</td>\n",
       "      <td>Place sensors around your garden , and when a ...</td>\n",
       "      <td>5.51</td>\n",
       "      <td>ENGLISH</td>\n",
       "    </tr>\n",
       "    <tr>\n",
       "      <th>4</th>\n",
       "      <td>adventure</td>\n",
       "      <td>N</td>\n",
       "      <td>9</td>\n",
       "      <td>Look for a partner that shares your level of a...</td>\n",
       "      <td>2.03</td>\n",
       "      <td>ENGLISH</td>\n",
       "    </tr>\n",
       "    <tr>\n",
       "      <th>...</th>\n",
       "      <td>...</td>\n",
       "      <td>...</td>\n",
       "      <td>...</td>\n",
       "      <td>...</td>\n",
       "      <td>...</td>\n",
       "      <td>...</td>\n",
       "    </tr>\n",
       "    <tr>\n",
       "      <th>95</th>\n",
       "      <td>water</td>\n",
       "      <td>N</td>\n",
       "      <td>5</td>\n",
       "      <td>Rinse your face with warm water and pat it dry .</td>\n",
       "      <td>6.91</td>\n",
       "      <td>ENGLISH</td>\n",
       "    </tr>\n",
       "    <tr>\n",
       "      <th>96</th>\n",
       "      <td>win</td>\n",
       "      <td>V</td>\n",
       "      <td>4</td>\n",
       "      <td>Staying mentally strong means winning half the...</td>\n",
       "      <td>2.34</td>\n",
       "      <td>ENGLISH</td>\n",
       "    </tr>\n",
       "    <tr>\n",
       "      <th>97</th>\n",
       "      <td>win</td>\n",
       "      <td>V</td>\n",
       "      <td>7</td>\n",
       "      <td>The person who has the highest score wins the ...</td>\n",
       "      <td>4.60</td>\n",
       "      <td>ENGLISH</td>\n",
       "    </tr>\n",
       "    <tr>\n",
       "      <th>98</th>\n",
       "      <td>woman</td>\n",
       "      <td>N</td>\n",
       "      <td>7</td>\n",
       "      <td>For the most part , men and women wear the sam...</td>\n",
       "      <td>6.29</td>\n",
       "      <td>ENGLISH</td>\n",
       "    </tr>\n",
       "    <tr>\n",
       "      <th>99</th>\n",
       "      <td>woman</td>\n",
       "      <td>N</td>\n",
       "      <td>3</td>\n",
       "      <td>Look at the woman whom you are listening to fo...</td>\n",
       "      <td>6.57</td>\n",
       "      <td>ENGLISH</td>\n",
       "    </tr>\n",
       "  </tbody>\n",
       "</table>\n",
       "<p>100 rows × 6 columns</p>\n",
       "</div>"
      ],
      "text/plain": [
       "         TARGET POS  INDEX                                               TEXT  \\\n",
       "0   achievement   N      3  Bring up academic achievements , awards , and ...   \n",
       "1   achievement   N      9  Please list people you have helped , your pers...   \n",
       "2      activate   V      1     Add activated carbon straight to your vodka .    \n",
       "3      activate   V     15  Place sensors around your garden , and when a ...   \n",
       "4     adventure   N      9  Look for a partner that shares your level of a...   \n",
       "..          ...  ..    ...                                                ...   \n",
       "95        water   N      5  Rinse your face with warm water and pat it dry .    \n",
       "96          win   V      4  Staying mentally strong means winning half the...   \n",
       "97          win   V      7  The person who has the highest score wins the ...   \n",
       "98        woman   N      7  For the most part , men and women wear the sam...   \n",
       "99        woman   N      3  Look at the woman whom you are listening to fo...   \n",
       "\n",
       "    MEAN LANGUAGE  \n",
       "0   3.06  ENGLISH  \n",
       "1   3.03  ENGLISH  \n",
       "2   3.83  ENGLISH  \n",
       "3   5.51  ENGLISH  \n",
       "4   2.03  ENGLISH  \n",
       "..   ...      ...  \n",
       "95  6.91  ENGLISH  \n",
       "96  2.34  ENGLISH  \n",
       "97  4.60  ENGLISH  \n",
       "98  6.29  ENGLISH  \n",
       "99  6.57  ENGLISH  \n",
       "\n",
       "[100 rows x 6 columns]"
      ]
     },
     "execution_count": 3,
     "metadata": {},
     "output_type": "execute_result"
    }
   ],
   "source": [
    "# Add a new column to the dataframe with the same value\n",
    "dataframe_english['LANGUAGE'] = 'ENGLISH'\n",
    "dataframe_english"
   ]
  },
  {
   "cell_type": "code",
   "execution_count": 4,
   "metadata": {},
   "outputs": [
    {
     "data": {
      "text/html": [
       "<div>\n",
       "<style scoped>\n",
       "    .dataframe tbody tr th:only-of-type {\n",
       "        vertical-align: middle;\n",
       "    }\n",
       "\n",
       "    .dataframe tbody tr th {\n",
       "        vertical-align: top;\n",
       "    }\n",
       "\n",
       "    .dataframe thead th {\n",
       "        text-align: right;\n",
       "    }\n",
       "</style>\n",
       "<table border=\"1\" class=\"dataframe\">\n",
       "  <thead>\n",
       "    <tr style=\"text-align: right;\">\n",
       "      <th></th>\n",
       "      <th>TARGET</th>\n",
       "      <th>POS</th>\n",
       "      <th>INDEX</th>\n",
       "      <th>TEXT</th>\n",
       "      <th>MEAN</th>\n",
       "    </tr>\n",
       "  </thead>\n",
       "  <tbody>\n",
       "    <tr>\n",
       "      <th>0</th>\n",
       "      <td>affascinare</td>\n",
       "      <td>V</td>\n",
       "      <td>8</td>\n",
       "      <td>Guardati i piedi o fai finta di essere affasci...</td>\n",
       "      <td>2.39</td>\n",
       "    </tr>\n",
       "    <tr>\n",
       "      <th>1</th>\n",
       "      <td>affascinare</td>\n",
       "      <td>V</td>\n",
       "      <td>1</td>\n",
       "      <td>Sei affascinato dal funzionamento della mente ...</td>\n",
       "      <td>2.03</td>\n",
       "    </tr>\n",
       "    <tr>\n",
       "      <th>2</th>\n",
       "      <td>amore</td>\n",
       "      <td>N</td>\n",
       "      <td>5</td>\n",
       "      <td>Pensa ai tuoi sentimenti di amore , passione e...</td>\n",
       "      <td>2.71</td>\n",
       "    </tr>\n",
       "    <tr>\n",
       "      <th>3</th>\n",
       "      <td>amore</td>\n",
       "      <td>N</td>\n",
       "      <td>7</td>\n",
       "      <td>Quasi tutti sono in grado di ricevere amore e ...</td>\n",
       "      <td>2.16</td>\n",
       "    </tr>\n",
       "    <tr>\n",
       "      <th>4</th>\n",
       "      <td>aria</td>\n",
       "      <td>N</td>\n",
       "      <td>4</td>\n",
       "      <td>Accendi il condizionatore sull’ aria fredda ma...</td>\n",
       "      <td>5.68</td>\n",
       "    </tr>\n",
       "    <tr>\n",
       "      <th>...</th>\n",
       "      <td>...</td>\n",
       "      <td>...</td>\n",
       "      <td>...</td>\n",
       "      <td>...</td>\n",
       "      <td>...</td>\n",
       "    </tr>\n",
       "    <tr>\n",
       "      <th>95</th>\n",
       "      <td>verità</td>\n",
       "      <td>N</td>\n",
       "      <td>8</td>\n",
       "      <td>In un modo o nell' altro , la verità viene sem...</td>\n",
       "      <td>2.53</td>\n",
       "    </tr>\n",
       "    <tr>\n",
       "      <th>96</th>\n",
       "      <td>viaggio</td>\n",
       "      <td>N</td>\n",
       "      <td>2</td>\n",
       "      <td>Organizza dei viaggi nel fine settimana quando...</td>\n",
       "      <td>5.03</td>\n",
       "    </tr>\n",
       "    <tr>\n",
       "      <th>97</th>\n",
       "      <td>viaggio</td>\n",
       "      <td>N</td>\n",
       "      <td>6</td>\n",
       "      <td>Pesa le tue valigie prima del viaggio per evit...</td>\n",
       "      <td>4.84</td>\n",
       "    </tr>\n",
       "    <tr>\n",
       "      <th>98</th>\n",
       "      <td>vista</td>\n",
       "      <td>N</td>\n",
       "      <td>6</td>\n",
       "      <td>è molto importante non perdere di vista la pro...</td>\n",
       "      <td>2.22</td>\n",
       "    </tr>\n",
       "    <tr>\n",
       "      <th>99</th>\n",
       "      <td>vista</td>\n",
       "      <td>N</td>\n",
       "      <td>9</td>\n",
       "      <td>i conigli hanno un ottimo udito e un' ottima v...</td>\n",
       "      <td>5.13</td>\n",
       "    </tr>\n",
       "  </tbody>\n",
       "</table>\n",
       "<p>100 rows × 5 columns</p>\n",
       "</div>"
      ],
      "text/plain": [
       "         TARGET POS  INDEX                                               TEXT  \\\n",
       "0   affascinare   V      8  Guardati i piedi o fai finta di essere affasci...   \n",
       "1   affascinare   V      1  Sei affascinato dal funzionamento della mente ...   \n",
       "2         amore   N      5  Pensa ai tuoi sentimenti di amore , passione e...   \n",
       "3         amore   N      7  Quasi tutti sono in grado di ricevere amore e ...   \n",
       "4          aria   N      4  Accendi il condizionatore sull’ aria fredda ma...   \n",
       "..          ...  ..    ...                                                ...   \n",
       "95       verità   N      8  In un modo o nell' altro , la verità viene sem...   \n",
       "96      viaggio   N      2  Organizza dei viaggi nel fine settimana quando...   \n",
       "97      viaggio   N      6  Pesa le tue valigie prima del viaggio per evit...   \n",
       "98        vista   N      6  è molto importante non perdere di vista la pro...   \n",
       "99        vista   N      9  i conigli hanno un ottimo udito e un' ottima v...   \n",
       "\n",
       "    MEAN  \n",
       "0   2.39  \n",
       "1   2.03  \n",
       "2   2.71  \n",
       "3   2.16  \n",
       "4   5.68  \n",
       "..   ...  \n",
       "95  2.53  \n",
       "96  5.03  \n",
       "97  4.84  \n",
       "98  2.22  \n",
       "99  5.13  \n",
       "\n",
       "[100 rows x 5 columns]"
      ]
     },
     "execution_count": 4,
     "metadata": {},
     "output_type": "execute_result"
    }
   ],
   "source": [
    "# Load the course data files for Italian into a dataframe using Pandas\n",
    "dataframe_italian = pd.read_csv(r\"C:\\Users\\muthu\\Desktop\\UNCC\\Semester-3\\NLP\\Assignments\\Data_Input\\CONcreTEXT_trial_IT.tsv\", sep = \"\\t\")\n",
    "dataframe_italian"
   ]
  },
  {
   "cell_type": "code",
   "execution_count": 5,
   "metadata": {
    "scrolled": true
   },
   "outputs": [
    {
     "data": {
      "text/html": [
       "<div>\n",
       "<style scoped>\n",
       "    .dataframe tbody tr th:only-of-type {\n",
       "        vertical-align: middle;\n",
       "    }\n",
       "\n",
       "    .dataframe tbody tr th {\n",
       "        vertical-align: top;\n",
       "    }\n",
       "\n",
       "    .dataframe thead th {\n",
       "        text-align: right;\n",
       "    }\n",
       "</style>\n",
       "<table border=\"1\" class=\"dataframe\">\n",
       "  <thead>\n",
       "    <tr style=\"text-align: right;\">\n",
       "      <th></th>\n",
       "      <th>TARGET</th>\n",
       "      <th>POS</th>\n",
       "      <th>INDEX</th>\n",
       "      <th>TEXT</th>\n",
       "      <th>MEAN</th>\n",
       "      <th>LANGUAGE</th>\n",
       "    </tr>\n",
       "  </thead>\n",
       "  <tbody>\n",
       "    <tr>\n",
       "      <th>0</th>\n",
       "      <td>affascinare</td>\n",
       "      <td>V</td>\n",
       "      <td>8</td>\n",
       "      <td>Guardati i piedi o fai finta di essere affasci...</td>\n",
       "      <td>2.39</td>\n",
       "      <td>ITALIAN</td>\n",
       "    </tr>\n",
       "    <tr>\n",
       "      <th>1</th>\n",
       "      <td>affascinare</td>\n",
       "      <td>V</td>\n",
       "      <td>1</td>\n",
       "      <td>Sei affascinato dal funzionamento della mente ...</td>\n",
       "      <td>2.03</td>\n",
       "      <td>ITALIAN</td>\n",
       "    </tr>\n",
       "    <tr>\n",
       "      <th>2</th>\n",
       "      <td>amore</td>\n",
       "      <td>N</td>\n",
       "      <td>5</td>\n",
       "      <td>Pensa ai tuoi sentimenti di amore , passione e...</td>\n",
       "      <td>2.71</td>\n",
       "      <td>ITALIAN</td>\n",
       "    </tr>\n",
       "    <tr>\n",
       "      <th>3</th>\n",
       "      <td>amore</td>\n",
       "      <td>N</td>\n",
       "      <td>7</td>\n",
       "      <td>Quasi tutti sono in grado di ricevere amore e ...</td>\n",
       "      <td>2.16</td>\n",
       "      <td>ITALIAN</td>\n",
       "    </tr>\n",
       "    <tr>\n",
       "      <th>4</th>\n",
       "      <td>aria</td>\n",
       "      <td>N</td>\n",
       "      <td>4</td>\n",
       "      <td>Accendi il condizionatore sull’ aria fredda ma...</td>\n",
       "      <td>5.68</td>\n",
       "      <td>ITALIAN</td>\n",
       "    </tr>\n",
       "    <tr>\n",
       "      <th>...</th>\n",
       "      <td>...</td>\n",
       "      <td>...</td>\n",
       "      <td>...</td>\n",
       "      <td>...</td>\n",
       "      <td>...</td>\n",
       "      <td>...</td>\n",
       "    </tr>\n",
       "    <tr>\n",
       "      <th>95</th>\n",
       "      <td>verità</td>\n",
       "      <td>N</td>\n",
       "      <td>8</td>\n",
       "      <td>In un modo o nell' altro , la verità viene sem...</td>\n",
       "      <td>2.53</td>\n",
       "      <td>ITALIAN</td>\n",
       "    </tr>\n",
       "    <tr>\n",
       "      <th>96</th>\n",
       "      <td>viaggio</td>\n",
       "      <td>N</td>\n",
       "      <td>2</td>\n",
       "      <td>Organizza dei viaggi nel fine settimana quando...</td>\n",
       "      <td>5.03</td>\n",
       "      <td>ITALIAN</td>\n",
       "    </tr>\n",
       "    <tr>\n",
       "      <th>97</th>\n",
       "      <td>viaggio</td>\n",
       "      <td>N</td>\n",
       "      <td>6</td>\n",
       "      <td>Pesa le tue valigie prima del viaggio per evit...</td>\n",
       "      <td>4.84</td>\n",
       "      <td>ITALIAN</td>\n",
       "    </tr>\n",
       "    <tr>\n",
       "      <th>98</th>\n",
       "      <td>vista</td>\n",
       "      <td>N</td>\n",
       "      <td>6</td>\n",
       "      <td>è molto importante non perdere di vista la pro...</td>\n",
       "      <td>2.22</td>\n",
       "      <td>ITALIAN</td>\n",
       "    </tr>\n",
       "    <tr>\n",
       "      <th>99</th>\n",
       "      <td>vista</td>\n",
       "      <td>N</td>\n",
       "      <td>9</td>\n",
       "      <td>i conigli hanno un ottimo udito e un' ottima v...</td>\n",
       "      <td>5.13</td>\n",
       "      <td>ITALIAN</td>\n",
       "    </tr>\n",
       "  </tbody>\n",
       "</table>\n",
       "<p>100 rows × 6 columns</p>\n",
       "</div>"
      ],
      "text/plain": [
       "         TARGET POS  INDEX                                               TEXT  \\\n",
       "0   affascinare   V      8  Guardati i piedi o fai finta di essere affasci...   \n",
       "1   affascinare   V      1  Sei affascinato dal funzionamento della mente ...   \n",
       "2         amore   N      5  Pensa ai tuoi sentimenti di amore , passione e...   \n",
       "3         amore   N      7  Quasi tutti sono in grado di ricevere amore e ...   \n",
       "4          aria   N      4  Accendi il condizionatore sull’ aria fredda ma...   \n",
       "..          ...  ..    ...                                                ...   \n",
       "95       verità   N      8  In un modo o nell' altro , la verità viene sem...   \n",
       "96      viaggio   N      2  Organizza dei viaggi nel fine settimana quando...   \n",
       "97      viaggio   N      6  Pesa le tue valigie prima del viaggio per evit...   \n",
       "98        vista   N      6  è molto importante non perdere di vista la pro...   \n",
       "99        vista   N      9  i conigli hanno un ottimo udito e un' ottima v...   \n",
       "\n",
       "    MEAN LANGUAGE  \n",
       "0   2.39  ITALIAN  \n",
       "1   2.03  ITALIAN  \n",
       "2   2.71  ITALIAN  \n",
       "3   2.16  ITALIAN  \n",
       "4   5.68  ITALIAN  \n",
       "..   ...      ...  \n",
       "95  2.53  ITALIAN  \n",
       "96  5.03  ITALIAN  \n",
       "97  4.84  ITALIAN  \n",
       "98  2.22  ITALIAN  \n",
       "99  5.13  ITALIAN  \n",
       "\n",
       "[100 rows x 6 columns]"
      ]
     },
     "execution_count": 5,
     "metadata": {},
     "output_type": "execute_result"
    }
   ],
   "source": [
    "# Add a new column to the dataframe with the same value\n",
    "dataframe_italian['LANGUAGE'] = 'ITALIAN'\n",
    "dataframe_italian"
   ]
  },
  {
   "cell_type": "markdown",
   "metadata": {},
   "source": [
    "<a id=\"Question 1 Answer\">\n",
    "</a>\n",
    "\n",
    "## Question-1 Answer - Combined Dataframe - English & Italian"
   ]
  },
  {
   "cell_type": "code",
   "execution_count": 6,
   "metadata": {
    "scrolled": true
   },
   "outputs": [
    {
     "data": {
      "text/html": [
       "<div>\n",
       "<style scoped>\n",
       "    .dataframe tbody tr th:only-of-type {\n",
       "        vertical-align: middle;\n",
       "    }\n",
       "\n",
       "    .dataframe tbody tr th {\n",
       "        vertical-align: top;\n",
       "    }\n",
       "\n",
       "    .dataframe thead th {\n",
       "        text-align: right;\n",
       "    }\n",
       "</style>\n",
       "<table border=\"1\" class=\"dataframe\">\n",
       "  <thead>\n",
       "    <tr style=\"text-align: right;\">\n",
       "      <th></th>\n",
       "      <th>TARGET</th>\n",
       "      <th>POS</th>\n",
       "      <th>INDEX</th>\n",
       "      <th>TEXT</th>\n",
       "      <th>MEAN</th>\n",
       "      <th>LANGUAGE</th>\n",
       "    </tr>\n",
       "  </thead>\n",
       "  <tbody>\n",
       "    <tr>\n",
       "      <th>0</th>\n",
       "      <td>achievement</td>\n",
       "      <td>N</td>\n",
       "      <td>3</td>\n",
       "      <td>Bring up academic achievements , awards , and ...</td>\n",
       "      <td>3.06</td>\n",
       "      <td>ENGLISH</td>\n",
       "    </tr>\n",
       "    <tr>\n",
       "      <th>1</th>\n",
       "      <td>achievement</td>\n",
       "      <td>N</td>\n",
       "      <td>9</td>\n",
       "      <td>Please list people you have helped , your pers...</td>\n",
       "      <td>3.03</td>\n",
       "      <td>ENGLISH</td>\n",
       "    </tr>\n",
       "    <tr>\n",
       "      <th>2</th>\n",
       "      <td>activate</td>\n",
       "      <td>V</td>\n",
       "      <td>1</td>\n",
       "      <td>Add activated carbon straight to your vodka .</td>\n",
       "      <td>3.83</td>\n",
       "      <td>ENGLISH</td>\n",
       "    </tr>\n",
       "    <tr>\n",
       "      <th>3</th>\n",
       "      <td>activate</td>\n",
       "      <td>V</td>\n",
       "      <td>15</td>\n",
       "      <td>Place sensors around your garden , and when a ...</td>\n",
       "      <td>5.51</td>\n",
       "      <td>ENGLISH</td>\n",
       "    </tr>\n",
       "    <tr>\n",
       "      <th>4</th>\n",
       "      <td>adventure</td>\n",
       "      <td>N</td>\n",
       "      <td>9</td>\n",
       "      <td>Look for a partner that shares your level of a...</td>\n",
       "      <td>2.03</td>\n",
       "      <td>ENGLISH</td>\n",
       "    </tr>\n",
       "    <tr>\n",
       "      <th>...</th>\n",
       "      <td>...</td>\n",
       "      <td>...</td>\n",
       "      <td>...</td>\n",
       "      <td>...</td>\n",
       "      <td>...</td>\n",
       "      <td>...</td>\n",
       "    </tr>\n",
       "    <tr>\n",
       "      <th>95</th>\n",
       "      <td>verità</td>\n",
       "      <td>N</td>\n",
       "      <td>8</td>\n",
       "      <td>In un modo o nell' altro , la verità viene sem...</td>\n",
       "      <td>2.53</td>\n",
       "      <td>ITALIAN</td>\n",
       "    </tr>\n",
       "    <tr>\n",
       "      <th>96</th>\n",
       "      <td>viaggio</td>\n",
       "      <td>N</td>\n",
       "      <td>2</td>\n",
       "      <td>Organizza dei viaggi nel fine settimana quando...</td>\n",
       "      <td>5.03</td>\n",
       "      <td>ITALIAN</td>\n",
       "    </tr>\n",
       "    <tr>\n",
       "      <th>97</th>\n",
       "      <td>viaggio</td>\n",
       "      <td>N</td>\n",
       "      <td>6</td>\n",
       "      <td>Pesa le tue valigie prima del viaggio per evit...</td>\n",
       "      <td>4.84</td>\n",
       "      <td>ITALIAN</td>\n",
       "    </tr>\n",
       "    <tr>\n",
       "      <th>98</th>\n",
       "      <td>vista</td>\n",
       "      <td>N</td>\n",
       "      <td>6</td>\n",
       "      <td>è molto importante non perdere di vista la pro...</td>\n",
       "      <td>2.22</td>\n",
       "      <td>ITALIAN</td>\n",
       "    </tr>\n",
       "    <tr>\n",
       "      <th>99</th>\n",
       "      <td>vista</td>\n",
       "      <td>N</td>\n",
       "      <td>9</td>\n",
       "      <td>i conigli hanno un ottimo udito e un' ottima v...</td>\n",
       "      <td>5.13</td>\n",
       "      <td>ITALIAN</td>\n",
       "    </tr>\n",
       "  </tbody>\n",
       "</table>\n",
       "<p>200 rows × 6 columns</p>\n",
       "</div>"
      ],
      "text/plain": [
       "         TARGET POS  INDEX                                               TEXT  \\\n",
       "0   achievement   N      3  Bring up academic achievements , awards , and ...   \n",
       "1   achievement   N      9  Please list people you have helped , your pers...   \n",
       "2      activate   V      1     Add activated carbon straight to your vodka .    \n",
       "3      activate   V     15  Place sensors around your garden , and when a ...   \n",
       "4     adventure   N      9  Look for a partner that shares your level of a...   \n",
       "..          ...  ..    ...                                                ...   \n",
       "95       verità   N      8  In un modo o nell' altro , la verità viene sem...   \n",
       "96      viaggio   N      2  Organizza dei viaggi nel fine settimana quando...   \n",
       "97      viaggio   N      6  Pesa le tue valigie prima del viaggio per evit...   \n",
       "98        vista   N      6  è molto importante non perdere di vista la pro...   \n",
       "99        vista   N      9  i conigli hanno un ottimo udito e un' ottima v...   \n",
       "\n",
       "    MEAN LANGUAGE  \n",
       "0   3.06  ENGLISH  \n",
       "1   3.03  ENGLISH  \n",
       "2   3.83  ENGLISH  \n",
       "3   5.51  ENGLISH  \n",
       "4   2.03  ENGLISH  \n",
       "..   ...      ...  \n",
       "95  2.53  ITALIAN  \n",
       "96  5.03  ITALIAN  \n",
       "97  4.84  ITALIAN  \n",
       "98  2.22  ITALIAN  \n",
       "99  5.13  ITALIAN  \n",
       "\n",
       "[200 rows x 6 columns]"
      ]
     },
     "execution_count": 6,
     "metadata": {},
     "output_type": "execute_result"
    }
   ],
   "source": [
    "# Question-1\n",
    "# Combining both the dataframes using concat function in pandas\n",
    "combined_dataframe = pd.concat([dataframe_english, dataframe_italian])\n",
    "combined_dataframe"
   ]
  },
  {
   "cell_type": "code",
   "execution_count": 7,
   "metadata": {},
   "outputs": [
    {
     "data": {
      "text/plain": [
       "0    Bring up academic achievements , awards , and ...\n",
       "1    Please list people you have helped , your pers...\n",
       "2       Add activated carbon straight to your vodka . \n",
       "3    Place sensors around your garden , and when a ...\n",
       "4    Look for a partner that shares your level of a...\n",
       "Name: TEXT, dtype: object"
      ]
     },
     "execution_count": 7,
     "metadata": {},
     "output_type": "execute_result"
    }
   ],
   "source": [
    "combined_text_column = combined_dataframe['TEXT']\n",
    "combined_text_column.head(5)"
   ]
  },
  {
   "cell_type": "code",
   "execution_count": 8,
   "metadata": {},
   "outputs": [],
   "source": [
    "# # Spliting the training and test data set in 80% : 20% using train_test_split\n",
    "\n",
    "# combined_df_train, combined_df_test = train_test_split(combined_dataframe['TEXT'], test_size=0.2, shuffle=True, random_state=42)\n",
    "\n",
    "# print(\"\\t English Language Train data: \\n\\n\", combined_df_train.head(5), \"\\n\\n Length of the Train data is: \", len(combined_df_train))\n",
    "# print('\\n')\n",
    "# print(\"***********************************************************\")\n",
    "# print('\\n')\n",
    "# print(\"\\t English Language Test data: \\n\\n\", combined_df_test.head(5), \"\\n\\n Length of the Train data is: \", len(combined_df_test))"
   ]
  },
  {
   "cell_type": "code",
   "execution_count": 9,
   "metadata": {},
   "outputs": [],
   "source": [
    "# # X = combined_dataframe['TEXT'].values\n",
    "# # y = combined_dataframe['LANGUAGE'].values\n",
    "\n",
    "# # X_train,X_test,y_train,y_test = train_test_split(X,y, test_size=0.2, shuffle=True, random_state=42)\n",
    "\n",
    "# # print('X_train:', X_train.shape)\n",
    "# # print('X_test:', X_test.shape)\n",
    "# # print('y_train:', y_train.shape)\n",
    "# # print('y_test:', y_test.shape)"
   ]
  },
  {
   "cell_type": "markdown",
   "metadata": {},
   "source": [
    "<a id=\"Question 2 Answer_CV\">\n",
    "</a>\n",
    "\n",
    "## Question-2 Answer - Count Vectorizer"
   ]
  },
  {
   "cell_type": "code",
   "execution_count": 10,
   "metadata": {},
   "outputs": [
    {
     "data": {
      "text/plain": [
       "(200, 1330)"
      ]
     },
     "execution_count": 10,
     "metadata": {},
     "output_type": "execute_result"
    }
   ],
   "source": [
    "# CountVectorizer() is used for Text preprocessing, tokenizing and filtering of stopwords in the given text.\n",
    "count_vect = CountVectorizer()\n",
    "combined_text_column_count_vect = count_vect.fit_transform(combined_text_column)\n",
    "combined_text_column_count_vect.shape"
   ]
  },
  {
   "cell_type": "code",
   "execution_count": 11,
   "metadata": {},
   "outputs": [
    {
     "data": {
      "text/plain": [
       "CountVectorizer(analyzer='word', binary=False, decode_error='strict',\n",
       "                dtype=<class 'numpy.int64'>, encoding='utf-8', input='content',\n",
       "                lowercase=True, max_df=1.0, max_features=None, min_df=1,\n",
       "                ngram_range=(1, 1), preprocessor=None, stop_words=None,\n",
       "                strip_accents=None, token_pattern='(?u)\\\\b\\\\w\\\\w+\\\\b',\n",
       "                tokenizer=None, vocabulary=None)"
      ]
     },
     "execution_count": 11,
     "metadata": {},
     "output_type": "execute_result"
    }
   ],
   "source": [
    "count_vect"
   ]
  },
  {
   "cell_type": "code",
   "execution_count": 12,
   "metadata": {},
   "outputs": [
    {
     "data": {
      "text/plain": [
       "<200x1330 sparse matrix of type '<class 'numpy.int64'>'\n",
       "\twith 2355 stored elements in Compressed Sparse Row format>"
      ]
     },
     "execution_count": 12,
     "metadata": {},
     "output_type": "execute_result"
    }
   ],
   "source": [
    "combined_text_column_count_vect"
   ]
  },
  {
   "cell_type": "markdown",
   "metadata": {},
   "source": [
    "<a id=\"Question 2 Answer_TFIDF\">\n",
    "</a>\n",
    "\n",
    "## Question-2 Answer - TFIDF"
   ]
  },
  {
   "cell_type": "code",
   "execution_count": 13,
   "metadata": {},
   "outputs": [
    {
     "data": {
      "text/plain": [
       "(200, 1330)"
      ]
     },
     "execution_count": 13,
     "metadata": {},
     "output_type": "execute_result"
    }
   ],
   "source": [
    "# TfidfTransformer() is used for converting the words occurrences to frequencies\n",
    "tfidf_transformer = TfidfTransformer()\n",
    "combined_text_column_count_vect_tfidf = tfidf_transformer.fit_transform(combined_text_column_count_vect)\n",
    "combined_text_column_count_vect_tfidf.shape"
   ]
  },
  {
   "cell_type": "markdown",
   "metadata": {},
   "source": [
    "<a id=\"Question 3 Answer_Naive_Bayes\">\n",
    "</a>\n",
    "\n",
    "## Question-3 Answer - Multinomial Naive Bayes"
   ]
  },
  {
   "cell_type": "code",
   "execution_count": 14,
   "metadata": {},
   "outputs": [
    {
     "data": {
      "text/plain": [
       "MultinomialNB(alpha=1.0, class_prior=None, fit_prior=True)"
      ]
     },
     "execution_count": 14,
     "metadata": {},
     "output_type": "execute_result"
    }
   ],
   "source": [
    "naive_bayes_model = MultinomialNB().fit(combined_text_column_count_vect_tfidf, combined_dataframe['LANGUAGE'])\n",
    "naive_bayes_model"
   ]
  },
  {
   "cell_type": "markdown",
   "metadata": {},
   "source": [
    "<a id=\"Question 4 Answer_predict_the_language\">\n",
    "</a>\n",
    "\n",
    "## Question-4 Answer - Predict the language"
   ]
  },
  {
   "cell_type": "code",
   "execution_count": 15,
   "metadata": {},
   "outputs": [
    {
     "data": {
      "text/plain": [
       "array(['ENGLISH', 'ITALIAN'], dtype=object)"
      ]
     },
     "execution_count": 15,
     "metadata": {},
     "output_type": "execute_result"
    }
   ],
   "source": [
    "category = combined_dataframe['LANGUAGE'].unique()\n",
    "category\n",
    "# category = ['ENGLISH', 'ITALIAN']"
   ]
  },
  {
   "cell_type": "code",
   "execution_count": 16,
   "metadata": {
    "scrolled": true
   },
   "outputs": [
    {
     "name": "stdout",
     "output_type": "stream",
     "text": [
      "'Why does a rose smell sweet?' => ENGLISH\n",
      "'Pensa ai tuoi sentimenti di amore.' => ITALIAN\n"
     ]
    }
   ],
   "source": [
    "docs_new = ['Why does a rose smell sweet?', 'Pensa ai tuoi sentimenti di amore.']\n",
    "X_new_counts = count_vect.transform(docs_new)\n",
    "X_new_tfidf = tfidf_transformer.transform(X_new_counts)\n",
    "\n",
    "predicted = naive_bayes_model.predict(X_new_tfidf)\n",
    "predicted\n",
    "\n",
    "for doc, category in zip(docs_new, predicted):\n",
    "    #print(predicted)\n",
    "    print('%r => %s' % (doc, category))"
   ]
  },
  {
   "cell_type": "markdown",
   "metadata": {},
   "source": [
    "<a id=\"Question 5 Answer_predict_the_language_5_sentences\">\n",
    "</a>\n",
    "\n",
    "## Question-5 Answer - Predict the language for 5 other sentences"
   ]
  },
  {
   "cell_type": "code",
   "execution_count": 17,
   "metadata": {},
   "outputs": [
    {
     "name": "stdout",
     "output_type": "stream",
     "text": [
      "'In questo modo non dovrai creare spazio sul tuo cellulare per il file di aggiornamento .' => ITALIAN\n",
      "'Please list people you have helped' => ENGLISH\n",
      "'Se la ricetta ti indica di cucinare il pollo non spellato' => ITALIAN\n",
      "'Expand your repertoire of brain games' => ENGLISH\n",
      "'Part of loving life is to not be ruled by fear , which will suffocate you in unhappiness .' => ENGLISH\n"
     ]
    }
   ],
   "source": [
    "# Testing the model with the sentences in the dataset\n",
    "docs_new = ['In questo modo non dovrai creare spazio sul tuo cellulare per il file di aggiornamento .', \n",
    "            'Please list people you have helped', \n",
    "            'Se la ricetta ti indica di cucinare il pollo non spellato', \n",
    "            'Expand your repertoire of brain games', \n",
    "            'Part of loving life is to not be ruled by fear , which will suffocate you in unhappiness .']\n",
    "X_new_counts = count_vect.transform(docs_new)\n",
    "X_new_tfidf = tfidf_transformer.transform(X_new_counts)\n",
    "\n",
    "predicted = naive_bayes_model.predict(X_new_tfidf)\n",
    "\n",
    "for doc, category in zip(docs_new, predicted):\n",
    "    print('%r => %s' % (doc, category))"
   ]
  },
  {
   "cell_type": "code",
   "execution_count": 18,
   "metadata": {},
   "outputs": [
    {
     "name": "stdout",
     "output_type": "stream",
     "text": [
      "'The team played really well and they won the match with full domination.' => ENGLISH\n",
      "'Una bella ragazza cammina per strada' => ITALIAN\n",
      "'Lucia ha paura' => ITALIAN\n",
      "'Cricket is an International game followed by many people' => ENGLISH\n",
      "'The problem is not that big as you think !!' => ENGLISH\n"
     ]
    }
   ],
   "source": [
    "# Testing the model with the sentences of my own\n",
    "docs_new = ['The team played really well and they won the match with full domination.', \n",
    "            'Una bella ragazza cammina per strada', \n",
    "            'Lucia ha paura', \n",
    "            'Cricket is an International game followed by many people', \n",
    "            'The problem is not that big as you think !!']\n",
    "X_new_counts = count_vect.transform(docs_new)\n",
    "X_new_tfidf = tfidf_transformer.transform(X_new_counts)\n",
    "\n",
    "predicted = naive_bayes_model.predict(X_new_tfidf)\n",
    "\n",
    "for doc, category in zip(docs_new, predicted):\n",
    "    print('%r => %s' % (doc, category))"
   ]
  },
  {
   "cell_type": "markdown",
   "metadata": {},
   "source": [
    "## Observation\n",
    "From the above result, we can see that all the 5 sentences were guessed correctly by the model and predicted the correct language appropriately with 100% accuracy."
   ]
  },
  {
   "cell_type": "markdown",
   "metadata": {},
   "source": [
    "<a id=\"Extra_credit\">\n",
    "</a>\n",
    "\n",
    "## Extra Credit - Testing the model on a sentence of your own that the model predicts incorrectly"
   ]
  },
  {
   "cell_type": "code",
   "execution_count": 19,
   "metadata": {},
   "outputs": [
    {
     "name": "stdout",
     "output_type": "stream",
     "text": [
      "'stesse frasi brodo' => ENGLISH\n",
      "'Hai Bravo, pizza?' => ITALIAN\n",
      "'Lucia Credibile Prestazione ' => ENGLISH\n",
      "'Domani pioggia intensa' => ENGLISH\n",
      "'Carla parla inglese?' => ENGLISH\n",
      "'Amo MS Dhoni' => ENGLISH\n"
     ]
    }
   ],
   "source": [
    "docs_new = ['stesse frasi brodo', \n",
    "            'Hai Bravo, pizza?', \n",
    "            'Lucia Credibile Prestazione ',\n",
    "            'Domani pioggia intensa', \n",
    "            'Carla parla inglese?', \n",
    "            'Amo MS Dhoni']\n",
    "X_new_counts = count_vect.transform(docs_new)\n",
    "X_new_tfidf = tfidf_transformer.transform(X_new_counts)\n",
    "\n",
    "predicted = naive_bayes_model.predict(X_new_tfidf)\n",
    "\n",
    "for doc, category in zip(docs_new, predicted):\n",
    "    print('%r => %s' % (doc, category))"
   ]
  },
  {
   "cell_type": "markdown",
   "metadata": {},
   "source": [
    "## Observation\n",
    "\n",
    "In the above result, first, third, fourth and final sentences are actaully Italian but the model predicted them wrongly as English.\n",
    "The second sentence is English but the model predicted it wrongly as Italian."
   ]
  },
  {
   "cell_type": "code",
   "execution_count": null,
   "metadata": {},
   "outputs": [],
   "source": []
  }
 ],
 "metadata": {
  "kernelspec": {
   "display_name": "Python 3",
   "language": "python",
   "name": "python3"
  },
  "language_info": {
   "codemirror_mode": {
    "name": "ipython",
    "version": 3
   },
   "file_extension": ".py",
   "mimetype": "text/x-python",
   "name": "python",
   "nbconvert_exporter": "python",
   "pygments_lexer": "ipython3",
   "version": "3.6.10"
  }
 },
 "nbformat": 4,
 "nbformat_minor": 4
}
